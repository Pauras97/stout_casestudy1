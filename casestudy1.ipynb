{
 "cells": [
  {
   "cell_type": "code",
   "execution_count": 38,
   "id": "prerequisite-automation",
   "metadata": {},
   "outputs": [],
   "source": [
    "import pandas as pd\n",
    "from collections import Counter\n",
    "import matplotlib.pyplot as plt\n",
    "import seaborn as sns\n",
    "from tqdm.notebook import tqdm_notebook\n",
    "import numpy as np\n",
    "from sklearn.model_selection import train_test_split\n",
    "\n",
    "from sklearn import metrics\n",
    "from sklearn.preprocessing import StandardScaler\n",
    "from sklearn.metrics import classification_report,confusion_matrix,accuracy_score, roc_curve, auc,\\\n",
    "precision_score\n",
    "from sklearn.ensemble import RandomForestClassifier\n",
    "from xgboost.sklearn import XGBClassifier\n",
    "from sklearn.metrics import plot_confusion_matrix\n"
   ]
  },
  {
   "cell_type": "markdown",
   "id": "assumed-printing",
   "metadata": {},
   "source": [
    "### Reading the data as a dataframe"
   ]
  },
  {
   "cell_type": "code",
   "execution_count": 3,
   "id": "sunset-twist",
   "metadata": {},
   "outputs": [],
   "source": [
    "data = pd.read_csv('PS_20174392719_1491204439457_log.csv')"
   ]
  },
  {
   "cell_type": "code",
   "execution_count": 4,
   "id": "loved-highland",
   "metadata": {},
   "outputs": [
    {
     "data": {
      "text/plain": [
       "(6362620, 11)"
      ]
     },
     "execution_count": 4,
     "metadata": {},
     "output_type": "execute_result"
    }
   ],
   "source": [
    "data.shape"
   ]
  },
  {
   "cell_type": "code",
   "execution_count": 5,
   "id": "tested-monroe",
   "metadata": {
    "scrolled": true
   },
   "outputs": [
    {
     "data": {
      "text/html": [
       "<div>\n",
       "<style scoped>\n",
       "    .dataframe tbody tr th:only-of-type {\n",
       "        vertical-align: middle;\n",
       "    }\n",
       "\n",
       "    .dataframe tbody tr th {\n",
       "        vertical-align: top;\n",
       "    }\n",
       "\n",
       "    .dataframe thead th {\n",
       "        text-align: right;\n",
       "    }\n",
       "</style>\n",
       "<table border=\"1\" class=\"dataframe\">\n",
       "  <thead>\n",
       "    <tr style=\"text-align: right;\">\n",
       "      <th></th>\n",
       "      <th>step</th>\n",
       "      <th>type</th>\n",
       "      <th>amount</th>\n",
       "      <th>nameOrig</th>\n",
       "      <th>oldbalanceOrg</th>\n",
       "      <th>newbalanceOrig</th>\n",
       "      <th>nameDest</th>\n",
       "      <th>oldbalanceDest</th>\n",
       "      <th>newbalanceDest</th>\n",
       "      <th>isFraud</th>\n",
       "      <th>isFlaggedFraud</th>\n",
       "    </tr>\n",
       "  </thead>\n",
       "  <tbody>\n",
       "    <tr>\n",
       "      <th>0</th>\n",
       "      <td>1</td>\n",
       "      <td>PAYMENT</td>\n",
       "      <td>9839.64</td>\n",
       "      <td>C1231006815</td>\n",
       "      <td>170136.0</td>\n",
       "      <td>160296.36</td>\n",
       "      <td>M1979787155</td>\n",
       "      <td>0.0</td>\n",
       "      <td>0.0</td>\n",
       "      <td>0</td>\n",
       "      <td>0</td>\n",
       "    </tr>\n",
       "    <tr>\n",
       "      <th>1</th>\n",
       "      <td>1</td>\n",
       "      <td>PAYMENT</td>\n",
       "      <td>1864.28</td>\n",
       "      <td>C1666544295</td>\n",
       "      <td>21249.0</td>\n",
       "      <td>19384.72</td>\n",
       "      <td>M2044282225</td>\n",
       "      <td>0.0</td>\n",
       "      <td>0.0</td>\n",
       "      <td>0</td>\n",
       "      <td>0</td>\n",
       "    </tr>\n",
       "    <tr>\n",
       "      <th>2</th>\n",
       "      <td>1</td>\n",
       "      <td>TRANSFER</td>\n",
       "      <td>181.00</td>\n",
       "      <td>C1305486145</td>\n",
       "      <td>181.0</td>\n",
       "      <td>0.00</td>\n",
       "      <td>C553264065</td>\n",
       "      <td>0.0</td>\n",
       "      <td>0.0</td>\n",
       "      <td>1</td>\n",
       "      <td>0</td>\n",
       "    </tr>\n",
       "    <tr>\n",
       "      <th>3</th>\n",
       "      <td>1</td>\n",
       "      <td>CASH_OUT</td>\n",
       "      <td>181.00</td>\n",
       "      <td>C840083671</td>\n",
       "      <td>181.0</td>\n",
       "      <td>0.00</td>\n",
       "      <td>C38997010</td>\n",
       "      <td>21182.0</td>\n",
       "      <td>0.0</td>\n",
       "      <td>1</td>\n",
       "      <td>0</td>\n",
       "    </tr>\n",
       "    <tr>\n",
       "      <th>4</th>\n",
       "      <td>1</td>\n",
       "      <td>PAYMENT</td>\n",
       "      <td>11668.14</td>\n",
       "      <td>C2048537720</td>\n",
       "      <td>41554.0</td>\n",
       "      <td>29885.86</td>\n",
       "      <td>M1230701703</td>\n",
       "      <td>0.0</td>\n",
       "      <td>0.0</td>\n",
       "      <td>0</td>\n",
       "      <td>0</td>\n",
       "    </tr>\n",
       "  </tbody>\n",
       "</table>\n",
       "</div>"
      ],
      "text/plain": [
       "   step      type    amount     nameOrig  oldbalanceOrg  newbalanceOrig  \\\n",
       "0     1   PAYMENT   9839.64  C1231006815       170136.0       160296.36   \n",
       "1     1   PAYMENT   1864.28  C1666544295        21249.0        19384.72   \n",
       "2     1  TRANSFER    181.00  C1305486145          181.0            0.00   \n",
       "3     1  CASH_OUT    181.00   C840083671          181.0            0.00   \n",
       "4     1   PAYMENT  11668.14  C2048537720        41554.0        29885.86   \n",
       "\n",
       "      nameDest  oldbalanceDest  newbalanceDest  isFraud  isFlaggedFraud  \n",
       "0  M1979787155             0.0             0.0        0               0  \n",
       "1  M2044282225             0.0             0.0        0               0  \n",
       "2   C553264065             0.0             0.0        1               0  \n",
       "3    C38997010         21182.0             0.0        1               0  \n",
       "4  M1230701703             0.0             0.0        0               0  "
      ]
     },
     "execution_count": 5,
     "metadata": {},
     "output_type": "execute_result"
    }
   ],
   "source": [
    "data.head()"
   ]
  },
  {
   "cell_type": "markdown",
   "id": "functional-google",
   "metadata": {},
   "source": [
    "We are given a data of financial transactions which span over a period of approximately one month. Some of these transactions are fradulent. Let's take a look at the features/variables of this dataset.\n",
    "\n",
    "* **step** - Integer value. Maps a unit of time in real world. A step of time is an hour.\n",
    "* **type** - Categorical value. Shows type of transactions.\n",
    "* **amount** - Float. Represents amount of the transaction in local currency.\n",
    "* **nameOrig** - String. Customer who initiated the transaction.\n",
    "* **oldbalanceOrg** - Float. Initial balance of the initiator before the transaction.\n",
    "* **newbalanceOrig** - Float. New balance of the initiator after the transaction.\n",
    "* **nameDest** - String. Customer who is the recipient of the transaction.\n",
    "* **oldbalanceDest** - Float. Initial balance of the recipient before the transaction.\n",
    "* **newbalanceDest** - Float. New balance of the recipient after the transaction.\n",
    "* **isFraud** - Binary. Used to identify fraud transactions from the rest.\n",
    "* **isFlaggedFraud** - Binary. Used to determine if the transaction is flagged fraud."
   ]
  },
  {
   "cell_type": "markdown",
   "id": "double-africa",
   "metadata": {},
   "source": [
    "### Checking for missing data"
   ]
  },
  {
   "cell_type": "code",
   "execution_count": 6,
   "id": "thorough-linux",
   "metadata": {},
   "outputs": [
    {
     "data": {
      "text/plain": [
       "False"
      ]
     },
     "execution_count": 6,
     "metadata": {},
     "output_type": "execute_result"
    }
   ],
   "source": [
    "data.isnull().values.any()"
   ]
  },
  {
   "cell_type": "markdown",
   "id": "relative-envelope",
   "metadata": {},
   "source": [
    "### Basic stats and summary of data"
   ]
  },
  {
   "cell_type": "code",
   "execution_count": 7,
   "id": "indonesian-workshop",
   "metadata": {},
   "outputs": [
    {
     "data": {
      "text/html": [
       "<div>\n",
       "<style scoped>\n",
       "    .dataframe tbody tr th:only-of-type {\n",
       "        vertical-align: middle;\n",
       "    }\n",
       "\n",
       "    .dataframe tbody tr th {\n",
       "        vertical-align: top;\n",
       "    }\n",
       "\n",
       "    .dataframe thead th {\n",
       "        text-align: right;\n",
       "    }\n",
       "</style>\n",
       "<table border=\"1\" class=\"dataframe\">\n",
       "  <thead>\n",
       "    <tr style=\"text-align: right;\">\n",
       "      <th></th>\n",
       "      <th>step</th>\n",
       "      <th>amount</th>\n",
       "      <th>oldbalanceOrg</th>\n",
       "      <th>newbalanceOrig</th>\n",
       "      <th>oldbalanceDest</th>\n",
       "      <th>newbalanceDest</th>\n",
       "      <th>isFraud</th>\n",
       "      <th>isFlaggedFraud</th>\n",
       "    </tr>\n",
       "  </thead>\n",
       "  <tbody>\n",
       "    <tr>\n",
       "      <th>count</th>\n",
       "      <td>6.362620e+06</td>\n",
       "      <td>6.362620e+06</td>\n",
       "      <td>6.362620e+06</td>\n",
       "      <td>6.362620e+06</td>\n",
       "      <td>6.362620e+06</td>\n",
       "      <td>6.362620e+06</td>\n",
       "      <td>6.362620e+06</td>\n",
       "      <td>6.362620e+06</td>\n",
       "    </tr>\n",
       "    <tr>\n",
       "      <th>mean</th>\n",
       "      <td>2.433972e+02</td>\n",
       "      <td>1.798619e+05</td>\n",
       "      <td>8.338831e+05</td>\n",
       "      <td>8.551137e+05</td>\n",
       "      <td>1.100702e+06</td>\n",
       "      <td>1.224996e+06</td>\n",
       "      <td>1.290820e-03</td>\n",
       "      <td>2.514687e-06</td>\n",
       "    </tr>\n",
       "    <tr>\n",
       "      <th>std</th>\n",
       "      <td>1.423320e+02</td>\n",
       "      <td>6.038582e+05</td>\n",
       "      <td>2.888243e+06</td>\n",
       "      <td>2.924049e+06</td>\n",
       "      <td>3.399180e+06</td>\n",
       "      <td>3.674129e+06</td>\n",
       "      <td>3.590480e-02</td>\n",
       "      <td>1.585775e-03</td>\n",
       "    </tr>\n",
       "    <tr>\n",
       "      <th>min</th>\n",
       "      <td>1.000000e+00</td>\n",
       "      <td>0.000000e+00</td>\n",
       "      <td>0.000000e+00</td>\n",
       "      <td>0.000000e+00</td>\n",
       "      <td>0.000000e+00</td>\n",
       "      <td>0.000000e+00</td>\n",
       "      <td>0.000000e+00</td>\n",
       "      <td>0.000000e+00</td>\n",
       "    </tr>\n",
       "    <tr>\n",
       "      <th>25%</th>\n",
       "      <td>1.560000e+02</td>\n",
       "      <td>1.338957e+04</td>\n",
       "      <td>0.000000e+00</td>\n",
       "      <td>0.000000e+00</td>\n",
       "      <td>0.000000e+00</td>\n",
       "      <td>0.000000e+00</td>\n",
       "      <td>0.000000e+00</td>\n",
       "      <td>0.000000e+00</td>\n",
       "    </tr>\n",
       "    <tr>\n",
       "      <th>50%</th>\n",
       "      <td>2.390000e+02</td>\n",
       "      <td>7.487194e+04</td>\n",
       "      <td>1.420800e+04</td>\n",
       "      <td>0.000000e+00</td>\n",
       "      <td>1.327057e+05</td>\n",
       "      <td>2.146614e+05</td>\n",
       "      <td>0.000000e+00</td>\n",
       "      <td>0.000000e+00</td>\n",
       "    </tr>\n",
       "    <tr>\n",
       "      <th>75%</th>\n",
       "      <td>3.350000e+02</td>\n",
       "      <td>2.087215e+05</td>\n",
       "      <td>1.073152e+05</td>\n",
       "      <td>1.442584e+05</td>\n",
       "      <td>9.430367e+05</td>\n",
       "      <td>1.111909e+06</td>\n",
       "      <td>0.000000e+00</td>\n",
       "      <td>0.000000e+00</td>\n",
       "    </tr>\n",
       "    <tr>\n",
       "      <th>max</th>\n",
       "      <td>7.430000e+02</td>\n",
       "      <td>9.244552e+07</td>\n",
       "      <td>5.958504e+07</td>\n",
       "      <td>4.958504e+07</td>\n",
       "      <td>3.560159e+08</td>\n",
       "      <td>3.561793e+08</td>\n",
       "      <td>1.000000e+00</td>\n",
       "      <td>1.000000e+00</td>\n",
       "    </tr>\n",
       "  </tbody>\n",
       "</table>\n",
       "</div>"
      ],
      "text/plain": [
       "               step        amount  oldbalanceOrg  newbalanceOrig  \\\n",
       "count  6.362620e+06  6.362620e+06   6.362620e+06    6.362620e+06   \n",
       "mean   2.433972e+02  1.798619e+05   8.338831e+05    8.551137e+05   \n",
       "std    1.423320e+02  6.038582e+05   2.888243e+06    2.924049e+06   \n",
       "min    1.000000e+00  0.000000e+00   0.000000e+00    0.000000e+00   \n",
       "25%    1.560000e+02  1.338957e+04   0.000000e+00    0.000000e+00   \n",
       "50%    2.390000e+02  7.487194e+04   1.420800e+04    0.000000e+00   \n",
       "75%    3.350000e+02  2.087215e+05   1.073152e+05    1.442584e+05   \n",
       "max    7.430000e+02  9.244552e+07   5.958504e+07    4.958504e+07   \n",
       "\n",
       "       oldbalanceDest  newbalanceDest       isFraud  isFlaggedFraud  \n",
       "count    6.362620e+06    6.362620e+06  6.362620e+06    6.362620e+06  \n",
       "mean     1.100702e+06    1.224996e+06  1.290820e-03    2.514687e-06  \n",
       "std      3.399180e+06    3.674129e+06  3.590480e-02    1.585775e-03  \n",
       "min      0.000000e+00    0.000000e+00  0.000000e+00    0.000000e+00  \n",
       "25%      0.000000e+00    0.000000e+00  0.000000e+00    0.000000e+00  \n",
       "50%      1.327057e+05    2.146614e+05  0.000000e+00    0.000000e+00  \n",
       "75%      9.430367e+05    1.111909e+06  0.000000e+00    0.000000e+00  \n",
       "max      3.560159e+08    3.561793e+08  1.000000e+00    1.000000e+00  "
      ]
     },
     "execution_count": 7,
     "metadata": {},
     "output_type": "execute_result"
    }
   ],
   "source": [
    "data.describe()"
   ]
  },
  {
   "cell_type": "markdown",
   "id": "nuclear-pregnancy",
   "metadata": {},
   "source": [
    "## Data Description and takeaways\n",
    "\n",
    "1. There are approximately 6 million records\n",
    "2. There are 11 variables/features\n",
    "3. The data has no missing values\n",
    "4. The maximum transaction is less than 100 million in the currency.\n",
    "5. We've no data about the recipients where their name starts with 'M' i.e Merchants\n",
    "6. There are no missing values in the data"
   ]
  },
  {
   "cell_type": "code",
   "execution_count": 8,
   "id": "noticed-frame",
   "metadata": {},
   "outputs": [
    {
     "data": {
      "image/png": "[encoded data removed]",
      "text/plain": [
       "<Figure size 432x288 with 1 Axes>"
      ]
     },
     "metadata": {
      "needs_background": "light"
     },
     "output_type": "display_data"
    },
    {
     "data": {
      "text/plain": [
       "0    6354407\n",
       "1       8213\n",
       "Name: isFraud, dtype: int64"
      ]
     },
     "execution_count": 8,
     "metadata": {},
     "output_type": "execute_result"
    }
   ],
   "source": [
    "axes = pd.value_counts(data['isFraud']).plot(kind = 'bar', title= 'Counts of transactions')\n",
    "for bar in axes.patches:\n",
    "    x = str(format(int(bar.get_height())))\n",
    "    y = (bar.get_x(), bar.get_height())\n",
    "    axes.annotate(x,y)\n",
    "plt.show()\n",
    "\n",
    "data['isFraud'].value_counts()"
   ]
  },
  {
   "cell_type": "markdown",
   "id": "democratic-witch",
   "metadata": {},
   "source": [
    "As seen above, the data is heavily skewed with about 0.12% of transactions consisting of fraud"
   ]
  },
  {
   "cell_type": "markdown",
   "id": "laden-beach",
   "metadata": {},
   "source": [
    "## step over time "
   ]
  },
  {
   "cell_type": "markdown",
   "id": "exempt-universal",
   "metadata": {},
   "source": [
    "As seen in the below histogram, most of the transactions take place in approximately the first 400 hours i.e in the first 16-17 days."
   ]
  },
  {
   "cell_type": "code",
   "execution_count": 9,
   "id": "surgical-physiology",
   "metadata": {},
   "outputs": [
    {
     "data": {
      "text/plain": [
       "<AxesSubplot:>"
      ]
     },
     "execution_count": 9,
     "metadata": {},
     "output_type": "execute_result"
    },
    {
     "data": {
      "image/png": "[encoded data removed]",
      "text/plain": [
       "<Figure size 432x288 with 1 Axes>"
      ]
     },
     "metadata": {
      "needs_background": "light"
     },
     "output_type": "display_data"
    }
   ],
   "source": [
    "data['step'].hist()"
   ]
  },
  {
   "cell_type": "markdown",
   "id": "desirable-elder",
   "metadata": {},
   "source": [
    "### type of transactions"
   ]
  },
  {
   "cell_type": "markdown",
   "id": "conscious-immunology",
   "metadata": {},
   "source": [
    "Let's take a look at the types of transactions"
   ]
  },
  {
   "cell_type": "code",
   "execution_count": 10,
   "id": "smoking-adoption",
   "metadata": {
    "scrolled": true
   },
   "outputs": [
    {
     "data": {
      "text/plain": [
       "<AxesSubplot:>"
      ]
     },
     "execution_count": 10,
     "metadata": {},
     "output_type": "execute_result"
    },
    {
     "data": {
      "image/png": "[encoded data removed]",
      "text/plain": [
       "<Figure size 432x288 with 1 Axes>"
      ]
     },
     "metadata": {
      "needs_background": "light"
     },
     "output_type": "display_data"
    }
   ],
   "source": [
    "data['type'].value_counts().plot(kind='bar')"
   ]
  },
  {
   "cell_type": "markdown",
   "id": "national-compromise",
   "metadata": {},
   "source": [
    "Most of the transactions are of the types 'CASH_OUT', 'PAYMENT', 'CASH_IN'"
   ]
  },
  {
   "cell_type": "markdown",
   "id": "educated-shower",
   "metadata": {},
   "source": [
    "### Types of transactions for fraud"
   ]
  },
  {
   "cell_type": "code",
   "execution_count": 11,
   "id": "professional-cathedral",
   "metadata": {},
   "outputs": [
    {
     "data": {
      "image/png": "[encoded data removed]",
      "text/plain": [
       "<Figure size 432x288 with 1 Axes>"
      ]
     },
     "metadata": {
      "needs_background": "light"
     },
     "output_type": "display_data"
    },
    {
     "data": {
      "text/plain": [
       "CASH_OUT    4116\n",
       "TRANSFER    4097\n",
       "Name: type, dtype: int64"
      ]
     },
     "execution_count": 11,
     "metadata": {},
     "output_type": "execute_result"
    }
   ],
   "source": [
    "axes = pd.value_counts(data[data[\"isFraud\"] == 1]['type']).plot(kind = 'bar', title= 'Types of fraud payments')\n",
    "for bar in axes.patches:\n",
    "    x = str(format(int(bar.get_height())))\n",
    "    y = (bar.get_x(), bar.get_height())\n",
    "    axes.annotate(x,y)\n",
    "plt.show()\n",
    "\n",
    "data[data[\"isFraud\"] == 1]['type'].value_counts()"
   ]
  },
  {
   "cell_type": "code",
   "execution_count": null,
   "id": "loving-details",
   "metadata": {},
   "outputs": [],
   "source": []
  },
  {
   "cell_type": "code",
   "execution_count": 12,
   "id": "personalized-component",
   "metadata": {},
   "outputs": [],
   "source": [
    "valid = data[data[\"isFraud\"] == 0]\n",
    "fraud = data[data[\"isFraud\"] == 1]"
   ]
  },
  {
   "cell_type": "markdown",
   "id": "agricultural-receiver",
   "metadata": {},
   "source": [
    "As seen above, the fraud data has only two types of payments viz. 'cash_out' and 'transfer'\n",
    "Let's remove the rows with other types of payments"
   ]
  },
  {
   "cell_type": "code",
   "execution_count": 13,
   "id": "european-number",
   "metadata": {},
   "outputs": [],
   "source": [
    "data = data[(data['type'] == 'CASH_OUT') | (data['type'] == 'TRANSFER')]\n",
    "valid = valid[(valid['type'] == 'CASH_OUT') | (valid['type'] == 'TRANSFER')]"
   ]
  },
  {
   "cell_type": "markdown",
   "id": "banned-heather",
   "metadata": {},
   "source": [
    "## Assumptions"
   ]
  },
  {
   "cell_type": "markdown",
   "id": "governmental-ridge",
   "metadata": {},
   "source": [
    "Let's make some assumptions\n",
    "1. We've no negative values in the dataset\n",
    "2. Most of the transactions have no balance errors in them i.e old balance + amount = new balance"
   ]
  },
  {
   "cell_type": "markdown",
   "id": "built-conclusion",
   "metadata": {},
   "source": [
    "## check negative values"
   ]
  },
  {
   "cell_type": "code",
   "execution_count": 14,
   "id": "representative-timber",
   "metadata": {
    "scrolled": true
   },
   "outputs": [
    {
     "data": {
      "application/vnd.jupyter.widget-view+json": {
       "model_id": "13ca7d5b12714501b469c82a8f351029",
       "version_major": 2,
       "version_minor": 0
      },
      "text/plain": [
       "  0%|          | 0/5 [00:00<?, ?it/s]"
      ]
     },
     "metadata": {},
     "output_type": "display_data"
    }
   ],
   "source": [
    "numeric_columns = ['amount', 'oldbalanceOrg', 'newbalanceOrig', 'oldbalanceDest', 'newbalanceDest']\n",
    "for col in tqdm_notebook(numeric_columns):\n",
    "    current = data[col].values.flatten()\n",
    "    number_negative = sum(current < 0)\n",
    "    if number_negative:\n",
    "        print(col)"
   ]
  },
  {
   "cell_type": "markdown",
   "id": "novel-clarity",
   "metadata": {},
   "source": [
    "Our first assumption of not having negative values holds"
   ]
  },
  {
   "cell_type": "markdown",
   "id": "colored-feeding",
   "metadata": {},
   "source": [
    "## check percent of transactions with error"
   ]
  },
  {
   "cell_type": "code",
   "execution_count": 15,
   "id": "blond-suspect",
   "metadata": {},
   "outputs": [
    {
     "name": "stdout",
     "output_type": "stream",
     "text": [
      "Percentage : 99.99942246794608\n"
     ]
    }
   ],
   "source": [
    "count_err_trans = (data['oldbalanceOrg'] + data['amount'] != data['newbalanceOrig']) | (data['oldbalanceDest'] + data['amount'] != data['newbalanceDest'])\n",
    "print(\"Percentage : \" + str(100*sum(count_err_trans)/data.shape[0]))"
   ]
  },
  {
   "cell_type": "markdown",
   "id": "intermediate-parish",
   "metadata": {},
   "source": [
    "Our second assumption doesn't hold. That is almost all the transactions have errors in their balances"
   ]
  },
  {
   "cell_type": "markdown",
   "id": "olympic-directive",
   "metadata": {},
   "source": [
    "## Error in the balances"
   ]
  },
  {
   "cell_type": "markdown",
   "id": "metric-address",
   "metadata": {},
   "source": [
    "Now let's see if the error in the balance of either origin or destination has different stats for fraud and valid transactions"
   ]
  },
  {
   "cell_type": "markdown",
   "id": "boring-postage",
   "metadata": {},
   "source": [
    "### adding features"
   ]
  },
  {
   "cell_type": "code",
   "execution_count": 16,
   "id": "undefined-bacon",
   "metadata": {},
   "outputs": [],
   "source": [
    "data['errorOrig'] = data['newbalanceOrig'] + data['amount'] - data['oldbalanceOrg']\n",
    "data['errorDest'] = data['newbalanceDest'] + data['amount'] - data['oldbalanceDest']"
   ]
  },
  {
   "cell_type": "markdown",
   "id": "iraqi-lounge",
   "metadata": {},
   "source": [
    "#### modify fraud and valid subsets to accomodate new features"
   ]
  },
  {
   "cell_type": "code",
   "execution_count": 17,
   "id": "still-airline",
   "metadata": {},
   "outputs": [],
   "source": [
    "valid = data[data[\"isFraud\"] == 0]\n",
    "fraud = data[data[\"isFraud\"] == 1]"
   ]
  },
  {
   "cell_type": "markdown",
   "id": "exciting-prison",
   "metadata": {},
   "source": [
    "### Compare error of Origin for Valid and Fraud transactions"
   ]
  },
  {
   "cell_type": "code",
   "execution_count": 18,
   "id": "direct-internship",
   "metadata": {},
   "outputs": [
    {
     "name": "stdout",
     "output_type": "stream",
     "text": [
      "VALID Origin Transactions Error: \n",
      "count    2.762196e+06\n",
      "mean     2.868035e+05\n",
      "std      8.763752e+05\n",
      "min     -1.000000e-02\n",
      "25%      5.261343e+04\n",
      "50%      1.442008e+05\n",
      "75%      2.804663e+05\n",
      "max      9.244552e+07\n",
      "Name: errorOrig, dtype: float64\n",
      "\n",
      "\n",
      "FRAUD Origin Transactions Error: \n",
      "count    8.213000e+03\n",
      "mean     1.069233e+04\n",
      "std      2.651461e+05\n",
      "min     -7.450581e-09\n",
      "25%      0.000000e+00\n",
      "50%      0.000000e+00\n",
      "75%      0.000000e+00\n",
      "max      1.000000e+07\n",
      "Name: errorOrig, dtype: float64\n"
     ]
    }
   ],
   "source": [
    "print(\"VALID Origin Transactions Error: \")\n",
    "print(valid['errorOrig'].describe())\n",
    "print('\\n')\n",
    "print(\"FRAUD Origin Transactions Error: \")\n",
    "print(fraud['errorOrig'].describe())"
   ]
  },
  {
   "cell_type": "markdown",
   "id": "brutal-operator",
   "metadata": {},
   "source": [
    "As seen above, for valid transactions, the error seems to be large for most of the observations.\n",
    "On the other hand, the error for fraud transactions seems to be close to zero. This is evident because about 75% of fraud data has error equal to or close to zero."
   ]
  },
  {
   "cell_type": "markdown",
   "id": "accessory-accreditation",
   "metadata": {},
   "source": [
    "### Compare error of Destination for Valid and Fraud transactions"
   ]
  },
  {
   "cell_type": "code",
   "execution_count": 19,
   "id": "stuffed-explosion",
   "metadata": {
    "scrolled": true
   },
   "outputs": [
    {
     "name": "stdout",
     "output_type": "stream",
     "text": [
      "VALID Destination Transactions Error: \n",
      "count    2.762196e+06\n",
      "mean     6.591413e+05\n",
      "std      1.989672e+06\n",
      "min     -9.385210e+06\n",
      "25%      1.667985e+05\n",
      "50%      3.496661e+05\n",
      "75%      6.325571e+05\n",
      "max      1.848910e+08\n",
      "Name: errorDest, dtype: float64\n",
      "\n",
      "\n",
      "FRAUD Destination Transactions Error: \n",
      "count    8.213000e+03\n",
      "mean     2.203425e+06\n",
      "std      3.869000e+06\n",
      "min     -1.897563e+05\n",
      "25%      1.760074e+05\n",
      "50%      6.280336e+05\n",
      "75%      2.183180e+06\n",
      "max      2.411357e+07\n",
      "Name: errorDest, dtype: float64\n"
     ]
    }
   ],
   "source": [
    "print(\"VALID Destination Transactions Error: \")\n",
    "print(valid['errorDest'].describe())\n",
    "print('\\n')\n",
    "print(\"FRAUD Destination Transactions Error: \")\n",
    "print(fraud['errorDest'].describe())"
   ]
  },
  {
   "cell_type": "markdown",
   "id": "compact-universe",
   "metadata": {},
   "source": [
    "We can't seem to find any differences in the valid and fraud transactions just by looking at these statistics. \n",
    "Let's try plotting the errors"
   ]
  },
  {
   "cell_type": "code",
   "execution_count": 20,
   "id": "fifth-shareware",
   "metadata": {
    "scrolled": true
   },
   "outputs": [
    {
     "data": {
      "image/png": "[encoded data removed]",
      "text/plain": [
       "<Figure size 432x288 with 1 Axes>"
      ]
     },
     "metadata": {
      "needs_background": "light"
     },
     "output_type": "display_data"
    }
   ],
   "source": [
    "axes = plt.subplot()\n",
    "plt.title('Origin Error vs Dest Error')\n",
    "valid_plot = valid.plot(x='errorOrig', y='errorDest', color = \"blue\", kind='scatter',alpha=0.01, ax = axes, label='Valid transactions')\n",
    "fraud_plot = fraud.plot(x='errorOrig', y='errorDest', color = \"red\", kind='scatter',ax = axes, label='Fraud transactions')\n",
    "plt.show()"
   ]
  },
  {
   "cell_type": "markdown",
   "id": "threatened-george",
   "metadata": {},
   "source": [
    "As seen above, all the fraud transactions have a Dest error less than equal to 0.25"
   ]
  },
  {
   "cell_type": "markdown",
   "id": "short-nickname",
   "metadata": {},
   "source": [
    "### Let's check if we need the isFlaggedFraud feature"
   ]
  },
  {
   "cell_type": "code",
   "execution_count": 21,
   "id": "every-father",
   "metadata": {},
   "outputs": [
    {
     "name": "stdout",
     "output_type": "stream",
     "text": [
      "Total fraud transactions : 8213\n",
      "Total fraud transactions flagged as fraud :  16\n"
     ]
    }
   ],
   "source": [
    "print(\"Total fraud transactions :\", len(fraud))\n",
    "print(\"Total fraud transactions flagged as fraud : \", len(fraud[fraud['isFlaggedFraud']==1]))"
   ]
  },
  {
   "cell_type": "markdown",
   "id": "running-benjamin",
   "metadata": {},
   "source": [
    "As the isFlaggedFraud only manages to correctly flag 16 transactions, we'll drop it"
   ]
  },
  {
   "cell_type": "code",
   "execution_count": 22,
   "id": "ordinary-unknown",
   "metadata": {},
   "outputs": [],
   "source": [
    "fraud = fraud.drop([\"isFlaggedFraud\"], 1)\n",
    "valid = valid.drop([\"isFlaggedFraud\"],1)\n",
    "data = data.drop([\"isFlaggedFraud\"],1)"
   ]
  },
  {
   "cell_type": "markdown",
   "id": "southwest-river",
   "metadata": {},
   "source": [
    "### Let's check if we need nameOrig and nameDest"
   ]
  },
  {
   "cell_type": "code",
   "execution_count": 23,
   "id": "documented-confidence",
   "metadata": {},
   "outputs": [
    {
     "name": "stdout",
     "output_type": "stream",
     "text": [
      "Number of unique names in Origin : 2768630\n",
      "Number of unique names in Dest : 509565\n",
      "Total number of rows : 2770409\n"
     ]
    }
   ],
   "source": [
    "print(\"Number of unique names in Origin :\",len(set(data['nameOrig'])))\n",
    "print(\"Number of unique names in Dest :\", len(set(data['nameDest'])))\n",
    "print(\"Total number of rows :\", len(data))"
   ]
  },
  {
   "cell_type": "markdown",
   "id": "healthy-broadway",
   "metadata": {},
   "source": [
    "Since, majority of the names in Origin and Dest are unique, we can drop these features"
   ]
  },
  {
   "cell_type": "code",
   "execution_count": 24,
   "id": "foster-round",
   "metadata": {},
   "outputs": [],
   "source": [
    "fraud = fraud.drop([\"nameOrig\",\"nameDest\"], 1)\n",
    "valid = valid.drop([\"nameOrig\",\"nameDest\"],1)\n",
    "data = data.drop([\"nameOrig\",\"nameDest\"],1)"
   ]
  },
  {
   "cell_type": "markdown",
   "id": "closed-setting",
   "metadata": {},
   "source": [
    "## Further analysis of the 'step' feature "
   ]
  },
  {
   "cell_type": "markdown",
   "id": "elect-scene",
   "metadata": {},
   "source": [
    "Earlier, we had observed the step in relation to the entirety of the given time span.\n",
    "Now, let's see if we determine a pattern in the transactions by hours of a day."
   ]
  },
  {
   "cell_type": "code",
   "execution_count": 25,
   "id": "competitive-weekend",
   "metadata": {},
   "outputs": [
    {
     "data": {
      "image/png": "[encoded data removed]",
      "text/plain": [
       "<Figure size 432x288 with 1 Axes>"
      ]
     },
     "metadata": {
      "needs_background": "light"
     },
     "output_type": "display_data"
    },
    {
     "data": {
      "image/png": "[encoded data removed]",
      "text/plain": [
       "<Figure size 432x288 with 1 Axes>"
      ]
     },
     "metadata": {
      "needs_background": "light"
     },
     "output_type": "display_data"
    }
   ],
   "source": [
    "fraud_hour = fraud['step'] % 24\n",
    "valid_hour = valid['step'] % 24\n",
    "\n",
    "fraud_hour.hist(bins=24, color=\"red\")\n",
    "plt.title('Fraud transactions by Hour')\n",
    "plt.xlabel('Hour of the Day')\n",
    "plt.ylabel(\"# of transactions\")\n",
    "plt.tight_layout()\n",
    "plt.show()\n",
    "\n",
    "plt.subplot(1, 2, 2)\n",
    "valid_hour.hist(bins=24, color=\"blue\")\n",
    "plt.title('Valid transactions by Hour')\n",
    "plt.xlabel('Hour of the Day')\n",
    "plt.ylabel(\"# of transactions\")\n",
    "\n",
    "plt.tight_layout()\n",
    "plt.show()"
   ]
  },
  {
   "cell_type": "markdown",
   "id": "occupational-incidence",
   "metadata": {},
   "source": [
    "As we can see, the fraud transactions don't take place during particular hours of the day.\n",
    "However, the valid transactions take place mostly between hour 10 and hour 20.\n",
    "Let's add this feature to our dataset."
   ]
  },
  {
   "cell_type": "code",
   "execution_count": 26,
   "id": "supposed-fireplace",
   "metadata": {},
   "outputs": [],
   "source": [
    "data['hour'] = data['step'] % 24"
   ]
  },
  {
   "cell_type": "markdown",
   "id": "liked-buffalo",
   "metadata": {},
   "source": [
    "## Data cleaning - convert categorical values "
   ]
  },
  {
   "cell_type": "markdown",
   "id": "interesting-continuity",
   "metadata": {},
   "source": [
    "Lastly, let's convert the categorical values i.e type into numerical values using One-hot encoding"
   ]
  },
  {
   "cell_type": "code",
   "execution_count": 27,
   "id": "hungarian-military",
   "metadata": {},
   "outputs": [],
   "source": [
    "data = pd.get_dummies(data,prefix=['type'])"
   ]
  },
  {
   "cell_type": "markdown",
   "id": "relative-mexican",
   "metadata": {},
   "source": [
    "Let's take a look at hour final dataset for prediction"
   ]
  },
  {
   "cell_type": "code",
   "execution_count": 28,
   "id": "piano-manufacturer",
   "metadata": {},
   "outputs": [
    {
     "data": {
      "text/html": [
       "<div>\n",
       "<style scoped>\n",
       "    .dataframe tbody tr th:only-of-type {\n",
       "        vertical-align: middle;\n",
       "    }\n",
       "\n",
       "    .dataframe tbody tr th {\n",
       "        vertical-align: top;\n",
       "    }\n",
       "\n",
       "    .dataframe thead th {\n",
       "        text-align: right;\n",
       "    }\n",
       "</style>\n",
       "<table border=\"1\" class=\"dataframe\">\n",
       "  <thead>\n",
       "    <tr style=\"text-align: right;\">\n",
       "      <th></th>\n",
       "      <th>step</th>\n",
       "      <th>amount</th>\n",
       "      <th>oldbalanceOrg</th>\n",
       "      <th>newbalanceOrig</th>\n",
       "      <th>oldbalanceDest</th>\n",
       "      <th>newbalanceDest</th>\n",
       "      <th>isFraud</th>\n",
       "      <th>errorOrig</th>\n",
       "      <th>errorDest</th>\n",
       "      <th>hour</th>\n",
       "      <th>type_CASH_OUT</th>\n",
       "      <th>type_TRANSFER</th>\n",
       "    </tr>\n",
       "  </thead>\n",
       "  <tbody>\n",
       "    <tr>\n",
       "      <th>2</th>\n",
       "      <td>1</td>\n",
       "      <td>181.00</td>\n",
       "      <td>181.0</td>\n",
       "      <td>0.0</td>\n",
       "      <td>0.0</td>\n",
       "      <td>0.00</td>\n",
       "      <td>1</td>\n",
       "      <td>0.00</td>\n",
       "      <td>181.00</td>\n",
       "      <td>1</td>\n",
       "      <td>0</td>\n",
       "      <td>1</td>\n",
       "    </tr>\n",
       "    <tr>\n",
       "      <th>3</th>\n",
       "      <td>1</td>\n",
       "      <td>181.00</td>\n",
       "      <td>181.0</td>\n",
       "      <td>0.0</td>\n",
       "      <td>21182.0</td>\n",
       "      <td>0.00</td>\n",
       "      <td>1</td>\n",
       "      <td>0.00</td>\n",
       "      <td>-21001.00</td>\n",
       "      <td>1</td>\n",
       "      <td>1</td>\n",
       "      <td>0</td>\n",
       "    </tr>\n",
       "    <tr>\n",
       "      <th>15</th>\n",
       "      <td>1</td>\n",
       "      <td>229133.94</td>\n",
       "      <td>15325.0</td>\n",
       "      <td>0.0</td>\n",
       "      <td>5083.0</td>\n",
       "      <td>51513.44</td>\n",
       "      <td>0</td>\n",
       "      <td>213808.94</td>\n",
       "      <td>275564.38</td>\n",
       "      <td>1</td>\n",
       "      <td>1</td>\n",
       "      <td>0</td>\n",
       "    </tr>\n",
       "    <tr>\n",
       "      <th>19</th>\n",
       "      <td>1</td>\n",
       "      <td>215310.30</td>\n",
       "      <td>705.0</td>\n",
       "      <td>0.0</td>\n",
       "      <td>22425.0</td>\n",
       "      <td>0.00</td>\n",
       "      <td>0</td>\n",
       "      <td>214605.30</td>\n",
       "      <td>192885.30</td>\n",
       "      <td>1</td>\n",
       "      <td>0</td>\n",
       "      <td>1</td>\n",
       "    </tr>\n",
       "    <tr>\n",
       "      <th>24</th>\n",
       "      <td>1</td>\n",
       "      <td>311685.89</td>\n",
       "      <td>10835.0</td>\n",
       "      <td>0.0</td>\n",
       "      <td>6267.0</td>\n",
       "      <td>2719172.89</td>\n",
       "      <td>0</td>\n",
       "      <td>300850.89</td>\n",
       "      <td>3024591.78</td>\n",
       "      <td>1</td>\n",
       "      <td>0</td>\n",
       "      <td>1</td>\n",
       "    </tr>\n",
       "  </tbody>\n",
       "</table>\n",
       "</div>"
      ],
      "text/plain": [
       "    step     amount  oldbalanceOrg  newbalanceOrig  oldbalanceDest  \\\n",
       "2      1     181.00          181.0             0.0             0.0   \n",
       "3      1     181.00          181.0             0.0         21182.0   \n",
       "15     1  229133.94        15325.0             0.0          5083.0   \n",
       "19     1  215310.30          705.0             0.0         22425.0   \n",
       "24     1  311685.89        10835.0             0.0          6267.0   \n",
       "\n",
       "    newbalanceDest  isFraud  errorOrig   errorDest  hour  type_CASH_OUT  \\\n",
       "2             0.00        1       0.00      181.00     1              0   \n",
       "3             0.00        1       0.00   -21001.00     1              1   \n",
       "15        51513.44        0  213808.94   275564.38     1              1   \n",
       "19            0.00        0  214605.30   192885.30     1              0   \n",
       "24      2719172.89        0  300850.89  3024591.78     1              0   \n",
       "\n",
       "    type_TRANSFER  \n",
       "2               1  \n",
       "3               0  \n",
       "15              0  \n",
       "19              1  \n",
       "24              1  "
      ]
     },
     "execution_count": 28,
     "metadata": {},
     "output_type": "execute_result"
    }
   ],
   "source": [
    "data.head()"
   ]
  },
  {
   "cell_type": "markdown",
   "id": "excessive-extent",
   "metadata": {},
   "source": [
    "## Check for correlation in the features"
   ]
  },
  {
   "cell_type": "markdown",
   "id": "gothic-exemption",
   "metadata": {},
   "source": [
    "Let's see if we need can find any correlated features so that we can perform PCA to reduce the dimensions"
   ]
  },
  {
   "cell_type": "code",
   "execution_count": 29,
   "id": "spread-accreditation",
   "metadata": {},
   "outputs": [
    {
     "data": {
      "image/png": "[encoded data removed]",
      "text/plain": [
       "<Figure size 432x288 with 2 Axes>"
      ]
     },
     "metadata": {
      "needs_background": "light"
     },
     "output_type": "display_data"
    }
   ],
   "source": [
    "corr = data.drop(\"isFraud\",1).corr()\n",
    "fig = plt.figure()\n",
    "ax = fig.add_subplot(111)\n",
    "cax = ax.matshow(corr,cmap='coolwarm', vmin=-1, vmax=1)\n",
    "fig.colorbar(cax)\n",
    "ticks = np.arange(0,len(data.drop(\"isFraud\",1).columns),1)\n",
    "ax.set_xticks(ticks)\n",
    "plt.xticks(rotation=90)\n",
    "ax.set_yticks(ticks)\n",
    "ax.set_xticklabels(data.drop(\"isFraud\",1).columns)\n",
    "ax.set_yticklabels(data.drop(\"isFraud\",1).columns)\n",
    "plt.show()"
   ]
  },
  {
   "cell_type": "markdown",
   "id": "deluxe-technician",
   "metadata": {},
   "source": [
    "The correlation can be seen between the following pairs: \n",
    "1. errorOrig and amount\n",
    "2. errorDest and amount\n",
    "3. oldbalanceDest and newbalanceDest\n",
    "4. oldbalanceOrg and newbalanceOrig\n",
    "\n",
    "But all these features are important as we've seen above"
   ]
  },
  {
   "cell_type": "markdown",
   "id": "otherwise-possible",
   "metadata": {},
   "source": [
    "### Normalizing and splitting data"
   ]
  },
  {
   "cell_type": "code",
   "execution_count": 30,
   "id": "front-immunology",
   "metadata": {},
   "outputs": [],
   "source": [
    "X = data.drop(['isFraud'],1)\n",
    "Y = data['isFraud']\n",
    "X_train, X_test, Y_train, Y_test = train_test_split(X,Y)\n",
    "\n",
    "scaler = StandardScaler()\n",
    "scaler.fit(X_train)\n",
    "\n",
    "X_train = scaler.transform(X_train)\n",
    "X_test = scaler.transform(X_test)"
   ]
  },
  {
   "cell_type": "markdown",
   "id": "growing-girlfriend",
   "metadata": {},
   "source": [
    "## Random Forest"
   ]
  },
  {
   "cell_type": "code",
   "execution_count": 31,
   "id": "expensive-gathering",
   "metadata": {},
   "outputs": [
    {
     "name": "stderr",
     "output_type": "stream",
     "text": [
      "[Parallel(n_jobs=-1)]: Using backend ThreadingBackend with 4 concurrent workers.\n",
      "[Parallel(n_jobs=-1)]: Done  15 out of  15 | elapsed:   39.3s finished\n",
      "/Users/paurax/anaconda3/lib/python3.7/site-packages/sklearn/ensemble/_forest.py:540: UserWarning: Some inputs do not have OOB scores. This probably means too few trees were used to compute any reliable oob estimates.\n",
      "  warn(\"Some inputs do not have OOB scores. \"\n",
      "/Users/paurax/anaconda3/lib/python3.7/site-packages/sklearn/ensemble/_forest.py:545: RuntimeWarning: invalid value encountered in true_divide\n",
      "  predictions[k].sum(axis=1)[:, np.newaxis])\n",
      "[Parallel(n_jobs=4)]: Using backend ThreadingBackend with 4 concurrent workers.\n",
      "[Parallel(n_jobs=4)]: Done  15 out of  15 | elapsed:    0.4s finished\n"
     ]
    }
   ],
   "source": [
    "# Train model\n",
    "rf = RandomForestClassifier(n_estimators=15, oob_score=True, class_weight='balanced', n_jobs=-1, verbose=True)\n",
    "fit = rf.fit(X_train, Y_train)\n",
    " \n",
    "# Predict on testing set\n",
    "predictionsRF = rf.predict(X_test)"
   ]
  },
  {
   "cell_type": "code",
   "execution_count": 32,
   "id": "emotional-wonder",
   "metadata": {},
   "outputs": [],
   "source": [
    "# Evaluating model\n",
    "CM_RF = confusion_matrix(Y_test,predictionsRF)\n",
    "CR_RF = classification_report(Y_test,predictionsRF)\n",
    "fprRF, recallRF, thresholdsRF = roc_curve(Y_test, predictionsRF)\n",
    "AUC_RF = auc(fprRF, recallRF)\n",
    "\n",
    "resultsRF = {\"Confusion Matrix\":CM_RF,\"Classification Report\":CR_RF,\"Area Under Curve\":AUC_RF}"
   ]
  },
  {
   "cell_type": "markdown",
   "id": "political-period",
   "metadata": {},
   "source": [
    "## Evaluation of the Random Forest"
   ]
  },
  {
   "cell_type": "code",
   "execution_count": 37,
   "id": "excited-firewall",
   "metadata": {},
   "outputs": [
    {
     "name": "stdout",
     "output_type": "stream",
     "text": [
      "Confusion Matrix : \n",
      " [[690597      0]\n",
      " [    10   1996]]\n",
      "Classification Report : \n",
      "               precision    recall  f1-score   support\n",
      "\n",
      "           0       1.00      1.00      1.00    690597\n",
      "           1       1.00      1.00      1.00      2006\n",
      "\n",
      "    accuracy                           1.00    692603\n",
      "   macro avg       1.00      1.00      1.00    692603\n",
      "weighted avg       1.00      1.00      1.00    692603\n",
      "\n",
      "Area Under Curve : \n",
      " 0.9975074775672981\n"
     ]
    }
   ],
   "source": [
    "# showing results from Random Forest\n",
    "\n",
    "for measure in resultsRF:\n",
    "    print(measure,\": \\n\",resultsRF[measure])"
   ]
  },
  {
   "cell_type": "code",
   "execution_count": 33,
   "id": "anticipated-expansion",
   "metadata": {
    "scrolled": true
   },
   "outputs": [
    {
     "name": "stderr",
     "output_type": "stream",
     "text": [
      "[Parallel(n_jobs=4)]: Using backend ThreadingBackend with 4 concurrent workers.\n",
      "[Parallel(n_jobs=4)]: Done  15 out of  15 | elapsed:    0.3s finished\n"
     ]
    },
    {
     "data": {
      "image/png": "[encoded data removed]",
      "text/plain": [
       "<Figure size 432x288 with 2 Axes>"
      ]
     },
     "metadata": {
      "needs_background": "light"
     },
     "output_type": "display_data"
    }
   ],
   "source": [
    "plot_confusion_matrix(rf, X_test, Y_test)  \n",
    "plt.show()  "
   ]
  },
  {
   "cell_type": "markdown",
   "id": "medical-alpha",
   "metadata": {},
   "source": [
    "## eXtreme Gradient Boosting(XGB) Trees"
   ]
  },
  {
   "cell_type": "code",
   "execution_count": 34,
   "id": "virgin-tiffany",
   "metadata": {},
   "outputs": [
    {
     "name": "stderr",
     "output_type": "stream",
     "text": [
      "/Users/paurax/anaconda3/lib/python3.7/site-packages/xgboost/sklearn.py:888: UserWarning: The use of label encoder in XGBClassifier is deprecated and will be removed in a future release. To remove this warning, do the following: 1) Pass option use_label_encoder=False when constructing XGBClassifier object; and 2) Encode your labels (y) as integers starting with 0, i.e. 0, 1, 2, ..., [num_class - 1].\n",
      "  warnings.warn(label_encoder_deprecation_msg, UserWarning)\n"
     ]
    },
    {
     "name": "stdout",
     "output_type": "stream",
     "text": [
      "[13:57:05] WARNING: /Users/travis/build/dmlc/xgboost/src/learner.cc:1061: Starting in XGBoost 1.3.0, the default evaluation metric used with the objective 'binary:logistic' was changed from 'error' to 'logloss'. Explicitly set eval_metric if you'd like to restore the old behavior.\n"
     ]
    }
   ],
   "source": [
    "# Train model\n",
    "weights = (Y == 0).sum() / (1.0 * (Y == 1).sum()) # for unbalanced datasets, these weights are recommended\n",
    "XGB = XGBClassifier(max_depth=3, scale_pos_weight=weights, n_jobs=-1, learning_rate=0.1)\n",
    "    \n",
    "fitted_vals = XGB.fit(X_train, Y_train)\n",
    " \n",
    "# Predict on testing set\n",
    "predictionsXGB = XGB.predict(X_test)"
   ]
  },
  {
   "cell_type": "markdown",
   "id": "prompt-balance",
   "metadata": {},
   "source": [
    "## Evaluation of the XGB"
   ]
  },
  {
   "cell_type": "code",
   "execution_count": 35,
   "id": "unauthorized-feelings",
   "metadata": {},
   "outputs": [
    {
     "name": "stdout",
     "output_type": "stream",
     "text": [
      "Confusion Matrix : \n",
      " [[690367    230]\n",
      " [     5   2001]] \n",
      "\n",
      "Classification Report : \n",
      "               precision    recall  f1-score   support\n",
      "\n",
      "           0       1.00      1.00      1.00    690597\n",
      "           1       0.90      1.00      0.94      2006\n",
      "\n",
      "    accuracy                           1.00    692603\n",
      "   macro avg       0.95      1.00      0.97    692603\n",
      "weighted avg       1.00      1.00      1.00    692603\n",
      " \n",
      "\n",
      "Area Under Curve : \n",
      " 0.998587216195222 \n",
      "\n"
     ]
    }
   ],
   "source": [
    "# Evaluating model\n",
    "CM_XGB = confusion_matrix(Y_test,predictionsXGB)\n",
    "CR_XGB = classification_report(Y_test,predictionsXGB)\n",
    "fprXGB, recallXGB, thresholds_XGB = roc_curve(Y_test, predictionsXGB)\n",
    "AUC_XGB = auc(fprXGB, recallXGB)\n",
    "resultsXGB = {\"Confusion Matrix\":CM_XGB,\"Classification Report\":CR_XGB,\"Area Under Curve\":AUC_XGB}\n",
    "\n",
    "# showing results from Extreme Gradient Boosting\n",
    "for measure in resultsXGB:\n",
    "    print(measure,\": \\n\",resultsXGB[measure],\"\\n\")"
   ]
  },
  {
   "cell_type": "code",
   "execution_count": 36,
   "id": "excellent-mortality",
   "metadata": {},
   "outputs": [
    {
     "data": {
      "image/png": "[encoded data removed]",
      "text/plain": [
       "<Figure size 432x288 with 2 Axes>"
      ]
     },
     "metadata": {
      "needs_background": "light"
     },
     "output_type": "display_data"
    }
   ],
   "source": [
    "plot_confusion_matrix(XGB, X_test, Y_test)  \n",
    "plt.show()  "
   ]
  },
  {
   "cell_type": "markdown",
   "id": "leading-thomas",
   "metadata": {},
   "source": [
    "## Analysis of the results and observations"
   ]
  },
  {
   "cell_type": "markdown",
   "id": "british-choice",
   "metadata": {},
   "source": [
    "Both the models performed really well for the valid transactions.\n",
    "But Random Forest turned out to be a bit better for predicting the frad transactions.\n",
    "\n",
    "This can be made clearer by taking a look at the Confusion matrices of both the models.\n",
    "Random Forest has correctly predicted all the fradulent transactions whereas XGB tree has had a few misclassifiactions."
   ]
  },
  {
   "cell_type": "markdown",
   "id": "changing-intent",
   "metadata": {},
   "source": [
    "### ROC Curves for both the models"
   ]
  },
  {
   "cell_type": "markdown",
   "id": "impaired-sewing",
   "metadata": {},
   "source": [
    "#### Random Forest ROC"
   ]
  },
  {
   "cell_type": "code",
   "execution_count": 39,
   "id": "speaking-attitude",
   "metadata": {
    "scrolled": false
   },
   "outputs": [
    {
     "name": "stderr",
     "output_type": "stream",
     "text": [
      "[Parallel(n_jobs=4)]: Using backend ThreadingBackend with 4 concurrent workers.\n",
      "[Parallel(n_jobs=4)]: Done  15 out of  15 | elapsed:    0.4s finished\n"
     ]
    },
    {
     "data": {
      "image/png": "[encoded data removed]",
      "text/plain": [
       "<Figure size 432x288 with 1 Axes>"
      ]
     },
     "metadata": {
      "needs_background": "light"
     },
     "output_type": "display_data"
    }
   ],
   "source": [
    "metrics.plot_roc_curve(rf, X_test, Y_test)  \n",
    "plt.show()   "
   ]
  },
  {
   "cell_type": "markdown",
   "id": "swiss-lodge",
   "metadata": {},
   "source": [
    "#### XGB ROC"
   ]
  },
  {
   "cell_type": "code",
   "execution_count": 40,
   "id": "residential-fisher",
   "metadata": {
    "scrolled": true
   },
   "outputs": [
    {
     "data": {
      "image/png": "[encoded data removed]",
      "text/plain": [
       "<Figure size 432x288 with 1 Axes>"
      ]
     },
     "metadata": {
      "needs_background": "light"
     },
     "output_type": "display_data"
    }
   ],
   "source": [
    "metrics.plot_roc_curve(XGB, X_test, Y_test)  \n",
    "plt.show()   "
   ]
  },
  {
   "cell_type": "markdown",
   "id": "specified-pillow",
   "metadata": {},
   "source": [
    "Both the ROC curves for the models are similar so let's take a look at their AUC(area under the curve) values"
   ]
  },
  {
   "cell_type": "markdown",
   "id": "running-addiction",
   "metadata": {},
   "source": [
    "### AUC Comparision"
   ]
  },
  {
   "cell_type": "code",
   "execution_count": 44,
   "id": "alone-cookie",
   "metadata": {},
   "outputs": [
    {
     "name": "stdout",
     "output_type": "stream",
     "text": [
      "AUC for Random Forest : 0.9975074775672981\n",
      "AUC for XGB : 0.998587216195222\n"
     ]
    }
   ],
   "source": [
    "print(\"AUC for Random Forest :\", AUC_RF)\n",
    "print(\"AUC for XGB :\", AUC_XGB)"
   ]
  },
  {
   "cell_type": "markdown",
   "id": "valued-opening",
   "metadata": {},
   "source": [
    "#### Occam's Razor prinicple"
   ]
  },
  {
   "cell_type": "markdown",
   "id": "bored-guarantee",
   "metadata": {},
   "source": [
    "The AUC for XGB is better than the Random Forest but not by much. But looking at the results and considering the Occam's Razor Rule i.e prefer the simpler model when performance is similar, I'd prefer Random Forsest for this Dataset"
   ]
  }
 ],
 "metadata": {
  "kernelspec": {
   "display_name": "Python 3",
   "language": "python",
   "name": "python3"
  },
  "language_info": {
   "codemirror_mode": {
    "name": "ipython",
    "version": 3
   },
   "file_extension": ".py",
   "mimetype": "text/x-python",
   "name": "python",
   "nbconvert_exporter": "python",
   "pygments_lexer": "ipython3",
   "version": "3.7.6"
  }
 },
 "nbformat": 4,
 "nbformat_minor": 5
}
